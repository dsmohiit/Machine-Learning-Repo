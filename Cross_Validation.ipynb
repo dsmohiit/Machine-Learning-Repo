{
  "nbformat": 4,
  "nbformat_minor": 0,
  "metadata": {
    "colab": {
      "provenance": [],
      "authorship_tag": "ABX9TyP9/5S8nOWDBR7toCFrONEa",
      "include_colab_link": true
    },
    "kernelspec": {
      "name": "python3",
      "display_name": "Python 3"
    },
    "language_info": {
      "name": "python"
    }
  },
  "cells": [
    {
      "cell_type": "markdown",
      "metadata": {
        "id": "view-in-github",
        "colab_type": "text"
      },
      "source": [
        "<a href=\"https://colab.research.google.com/github/dsmohiit/Machine-Learning-Repo/blob/main/Cross_Validation.ipynb\" target=\"_parent\"><img src=\"https://colab.research.google.com/assets/colab-badge.svg\" alt=\"Open In Colab\"/></a>"
      ]
    },
    {
      "cell_type": "code",
      "execution_count": 14,
      "metadata": {
        "id": "9iwOTqXwNHl0"
      },
      "outputs": [],
      "source": [
        "import numpy as np\n",
        "import pandas as pd\n",
        "import matplotlib.pyplot as plt"
      ]
    },
    {
      "cell_type": "code",
      "source": [
        "df = pd.read_csv(\"/content/BostonHousing.csv\")"
      ],
      "metadata": {
        "id": "TdWuuiIVNIGC"
      },
      "execution_count": 6,
      "outputs": []
    },
    {
      "cell_type": "code",
      "source": [
        "df.head()"
      ],
      "metadata": {
        "colab": {
          "base_uri": "https://localhost:8080/",
          "height": 206
        },
        "id": "ZlCX01ejNIIi",
        "outputId": "b7e273bd-e7f2-4ddc-ac6d-b136a51fd09f"
      },
      "execution_count": 7,
      "outputs": [
        {
          "output_type": "execute_result",
          "data": {
            "text/plain": [
              "      crim    zn  indus  chas    nox     rm   age     dis  rad  tax  ptratio  \\\n",
              "0  0.00632  18.0   2.31     0  0.538  6.575  65.2  4.0900    1  296     15.3   \n",
              "1  0.02731   0.0   7.07     0  0.469  6.421  78.9  4.9671    2  242     17.8   \n",
              "2  0.02729   0.0   7.07     0  0.469  7.185  61.1  4.9671    2  242     17.8   \n",
              "3  0.03237   0.0   2.18     0  0.458  6.998  45.8  6.0622    3  222     18.7   \n",
              "4  0.06905   0.0   2.18     0  0.458  7.147  54.2  6.0622    3  222     18.7   \n",
              "\n",
              "        b  lstat  medv  \n",
              "0  396.90   4.98  24.0  \n",
              "1  396.90   9.14  21.6  \n",
              "2  392.83   4.03  34.7  \n",
              "3  394.63   2.94  33.4  \n",
              "4  396.90   5.33  36.2  "
            ],
            "text/html": [
              "\n",
              "  <div id=\"df-6a304fab-f3a0-4eb6-a74b-3b6ba30cf082\" class=\"colab-df-container\">\n",
              "    <div>\n",
              "<style scoped>\n",
              "    .dataframe tbody tr th:only-of-type {\n",
              "        vertical-align: middle;\n",
              "    }\n",
              "\n",
              "    .dataframe tbody tr th {\n",
              "        vertical-align: top;\n",
              "    }\n",
              "\n",
              "    .dataframe thead th {\n",
              "        text-align: right;\n",
              "    }\n",
              "</style>\n",
              "<table border=\"1\" class=\"dataframe\">\n",
              "  <thead>\n",
              "    <tr style=\"text-align: right;\">\n",
              "      <th></th>\n",
              "      <th>crim</th>\n",
              "      <th>zn</th>\n",
              "      <th>indus</th>\n",
              "      <th>chas</th>\n",
              "      <th>nox</th>\n",
              "      <th>rm</th>\n",
              "      <th>age</th>\n",
              "      <th>dis</th>\n",
              "      <th>rad</th>\n",
              "      <th>tax</th>\n",
              "      <th>ptratio</th>\n",
              "      <th>b</th>\n",
              "      <th>lstat</th>\n",
              "      <th>medv</th>\n",
              "    </tr>\n",
              "  </thead>\n",
              "  <tbody>\n",
              "    <tr>\n",
              "      <th>0</th>\n",
              "      <td>0.00632</td>\n",
              "      <td>18.0</td>\n",
              "      <td>2.31</td>\n",
              "      <td>0</td>\n",
              "      <td>0.538</td>\n",
              "      <td>6.575</td>\n",
              "      <td>65.2</td>\n",
              "      <td>4.0900</td>\n",
              "      <td>1</td>\n",
              "      <td>296</td>\n",
              "      <td>15.3</td>\n",
              "      <td>396.90</td>\n",
              "      <td>4.98</td>\n",
              "      <td>24.0</td>\n",
              "    </tr>\n",
              "    <tr>\n",
              "      <th>1</th>\n",
              "      <td>0.02731</td>\n",
              "      <td>0.0</td>\n",
              "      <td>7.07</td>\n",
              "      <td>0</td>\n",
              "      <td>0.469</td>\n",
              "      <td>6.421</td>\n",
              "      <td>78.9</td>\n",
              "      <td>4.9671</td>\n",
              "      <td>2</td>\n",
              "      <td>242</td>\n",
              "      <td>17.8</td>\n",
              "      <td>396.90</td>\n",
              "      <td>9.14</td>\n",
              "      <td>21.6</td>\n",
              "    </tr>\n",
              "    <tr>\n",
              "      <th>2</th>\n",
              "      <td>0.02729</td>\n",
              "      <td>0.0</td>\n",
              "      <td>7.07</td>\n",
              "      <td>0</td>\n",
              "      <td>0.469</td>\n",
              "      <td>7.185</td>\n",
              "      <td>61.1</td>\n",
              "      <td>4.9671</td>\n",
              "      <td>2</td>\n",
              "      <td>242</td>\n",
              "      <td>17.8</td>\n",
              "      <td>392.83</td>\n",
              "      <td>4.03</td>\n",
              "      <td>34.7</td>\n",
              "    </tr>\n",
              "    <tr>\n",
              "      <th>3</th>\n",
              "      <td>0.03237</td>\n",
              "      <td>0.0</td>\n",
              "      <td>2.18</td>\n",
              "      <td>0</td>\n",
              "      <td>0.458</td>\n",
              "      <td>6.998</td>\n",
              "      <td>45.8</td>\n",
              "      <td>6.0622</td>\n",
              "      <td>3</td>\n",
              "      <td>222</td>\n",
              "      <td>18.7</td>\n",
              "      <td>394.63</td>\n",
              "      <td>2.94</td>\n",
              "      <td>33.4</td>\n",
              "    </tr>\n",
              "    <tr>\n",
              "      <th>4</th>\n",
              "      <td>0.06905</td>\n",
              "      <td>0.0</td>\n",
              "      <td>2.18</td>\n",
              "      <td>0</td>\n",
              "      <td>0.458</td>\n",
              "      <td>7.147</td>\n",
              "      <td>54.2</td>\n",
              "      <td>6.0622</td>\n",
              "      <td>3</td>\n",
              "      <td>222</td>\n",
              "      <td>18.7</td>\n",
              "      <td>396.90</td>\n",
              "      <td>5.33</td>\n",
              "      <td>36.2</td>\n",
              "    </tr>\n",
              "  </tbody>\n",
              "</table>\n",
              "</div>\n",
              "    <div class=\"colab-df-buttons\">\n",
              "\n",
              "  <div class=\"colab-df-container\">\n",
              "    <button class=\"colab-df-convert\" onclick=\"convertToInteractive('df-6a304fab-f3a0-4eb6-a74b-3b6ba30cf082')\"\n",
              "            title=\"Convert this dataframe to an interactive table.\"\n",
              "            style=\"display:none;\">\n",
              "\n",
              "  <svg xmlns=\"http://www.w3.org/2000/svg\" height=\"24px\" viewBox=\"0 -960 960 960\">\n",
              "    <path d=\"M120-120v-720h720v720H120Zm60-500h600v-160H180v160Zm220 220h160v-160H400v160Zm0 220h160v-160H400v160ZM180-400h160v-160H180v160Zm440 0h160v-160H620v160ZM180-180h160v-160H180v160Zm440 0h160v-160H620v160Z\"/>\n",
              "  </svg>\n",
              "    </button>\n",
              "\n",
              "  <style>\n",
              "    .colab-df-container {\n",
              "      display:flex;\n",
              "      gap: 12px;\n",
              "    }\n",
              "\n",
              "    .colab-df-convert {\n",
              "      background-color: #E8F0FE;\n",
              "      border: none;\n",
              "      border-radius: 50%;\n",
              "      cursor: pointer;\n",
              "      display: none;\n",
              "      fill: #1967D2;\n",
              "      height: 32px;\n",
              "      padding: 0 0 0 0;\n",
              "      width: 32px;\n",
              "    }\n",
              "\n",
              "    .colab-df-convert:hover {\n",
              "      background-color: #E2EBFA;\n",
              "      box-shadow: 0px 1px 2px rgba(60, 64, 67, 0.3), 0px 1px 3px 1px rgba(60, 64, 67, 0.15);\n",
              "      fill: #174EA6;\n",
              "    }\n",
              "\n",
              "    .colab-df-buttons div {\n",
              "      margin-bottom: 4px;\n",
              "    }\n",
              "\n",
              "    [theme=dark] .colab-df-convert {\n",
              "      background-color: #3B4455;\n",
              "      fill: #D2E3FC;\n",
              "    }\n",
              "\n",
              "    [theme=dark] .colab-df-convert:hover {\n",
              "      background-color: #434B5C;\n",
              "      box-shadow: 0px 1px 3px 1px rgba(0, 0, 0, 0.15);\n",
              "      filter: drop-shadow(0px 1px 2px rgba(0, 0, 0, 0.3));\n",
              "      fill: #FFFFFF;\n",
              "    }\n",
              "  </style>\n",
              "\n",
              "    <script>\n",
              "      const buttonEl =\n",
              "        document.querySelector('#df-6a304fab-f3a0-4eb6-a74b-3b6ba30cf082 button.colab-df-convert');\n",
              "      buttonEl.style.display =\n",
              "        google.colab.kernel.accessAllowed ? 'block' : 'none';\n",
              "\n",
              "      async function convertToInteractive(key) {\n",
              "        const element = document.querySelector('#df-6a304fab-f3a0-4eb6-a74b-3b6ba30cf082');\n",
              "        const dataTable =\n",
              "          await google.colab.kernel.invokeFunction('convertToInteractive',\n",
              "                                                    [key], {});\n",
              "        if (!dataTable) return;\n",
              "\n",
              "        const docLinkHtml = 'Like what you see? Visit the ' +\n",
              "          '<a target=\"_blank\" href=https://colab.research.google.com/notebooks/data_table.ipynb>data table notebook</a>'\n",
              "          + ' to learn more about interactive tables.';\n",
              "        element.innerHTML = '';\n",
              "        dataTable['output_type'] = 'display_data';\n",
              "        await google.colab.output.renderOutput(dataTable, element);\n",
              "        const docLink = document.createElement('div');\n",
              "        docLink.innerHTML = docLinkHtml;\n",
              "        element.appendChild(docLink);\n",
              "      }\n",
              "    </script>\n",
              "  </div>\n",
              "\n",
              "\n",
              "    <div id=\"df-1d8de83d-d381-462c-8c0a-e61568b8336e\">\n",
              "      <button class=\"colab-df-quickchart\" onclick=\"quickchart('df-1d8de83d-d381-462c-8c0a-e61568b8336e')\"\n",
              "                title=\"Suggest charts\"\n",
              "                style=\"display:none;\">\n",
              "\n",
              "<svg xmlns=\"http://www.w3.org/2000/svg\" height=\"24px\"viewBox=\"0 0 24 24\"\n",
              "     width=\"24px\">\n",
              "    <g>\n",
              "        <path d=\"M19 3H5c-1.1 0-2 .9-2 2v14c0 1.1.9 2 2 2h14c1.1 0 2-.9 2-2V5c0-1.1-.9-2-2-2zM9 17H7v-7h2v7zm4 0h-2V7h2v10zm4 0h-2v-4h2v4z\"/>\n",
              "    </g>\n",
              "</svg>\n",
              "      </button>\n",
              "\n",
              "<style>\n",
              "  .colab-df-quickchart {\n",
              "      --bg-color: #E8F0FE;\n",
              "      --fill-color: #1967D2;\n",
              "      --hover-bg-color: #E2EBFA;\n",
              "      --hover-fill-color: #174EA6;\n",
              "      --disabled-fill-color: #AAA;\n",
              "      --disabled-bg-color: #DDD;\n",
              "  }\n",
              "\n",
              "  [theme=dark] .colab-df-quickchart {\n",
              "      --bg-color: #3B4455;\n",
              "      --fill-color: #D2E3FC;\n",
              "      --hover-bg-color: #434B5C;\n",
              "      --hover-fill-color: #FFFFFF;\n",
              "      --disabled-bg-color: #3B4455;\n",
              "      --disabled-fill-color: #666;\n",
              "  }\n",
              "\n",
              "  .colab-df-quickchart {\n",
              "    background-color: var(--bg-color);\n",
              "    border: none;\n",
              "    border-radius: 50%;\n",
              "    cursor: pointer;\n",
              "    display: none;\n",
              "    fill: var(--fill-color);\n",
              "    height: 32px;\n",
              "    padding: 0;\n",
              "    width: 32px;\n",
              "  }\n",
              "\n",
              "  .colab-df-quickchart:hover {\n",
              "    background-color: var(--hover-bg-color);\n",
              "    box-shadow: 0 1px 2px rgba(60, 64, 67, 0.3), 0 1px 3px 1px rgba(60, 64, 67, 0.15);\n",
              "    fill: var(--button-hover-fill-color);\n",
              "  }\n",
              "\n",
              "  .colab-df-quickchart-complete:disabled,\n",
              "  .colab-df-quickchart-complete:disabled:hover {\n",
              "    background-color: var(--disabled-bg-color);\n",
              "    fill: var(--disabled-fill-color);\n",
              "    box-shadow: none;\n",
              "  }\n",
              "\n",
              "  .colab-df-spinner {\n",
              "    border: 2px solid var(--fill-color);\n",
              "    border-color: transparent;\n",
              "    border-bottom-color: var(--fill-color);\n",
              "    animation:\n",
              "      spin 1s steps(1) infinite;\n",
              "  }\n",
              "\n",
              "  @keyframes spin {\n",
              "    0% {\n",
              "      border-color: transparent;\n",
              "      border-bottom-color: var(--fill-color);\n",
              "      border-left-color: var(--fill-color);\n",
              "    }\n",
              "    20% {\n",
              "      border-color: transparent;\n",
              "      border-left-color: var(--fill-color);\n",
              "      border-top-color: var(--fill-color);\n",
              "    }\n",
              "    30% {\n",
              "      border-color: transparent;\n",
              "      border-left-color: var(--fill-color);\n",
              "      border-top-color: var(--fill-color);\n",
              "      border-right-color: var(--fill-color);\n",
              "    }\n",
              "    40% {\n",
              "      border-color: transparent;\n",
              "      border-right-color: var(--fill-color);\n",
              "      border-top-color: var(--fill-color);\n",
              "    }\n",
              "    60% {\n",
              "      border-color: transparent;\n",
              "      border-right-color: var(--fill-color);\n",
              "    }\n",
              "    80% {\n",
              "      border-color: transparent;\n",
              "      border-right-color: var(--fill-color);\n",
              "      border-bottom-color: var(--fill-color);\n",
              "    }\n",
              "    90% {\n",
              "      border-color: transparent;\n",
              "      border-bottom-color: var(--fill-color);\n",
              "    }\n",
              "  }\n",
              "</style>\n",
              "\n",
              "      <script>\n",
              "        async function quickchart(key) {\n",
              "          const quickchartButtonEl =\n",
              "            document.querySelector('#' + key + ' button');\n",
              "          quickchartButtonEl.disabled = true;  // To prevent multiple clicks.\n",
              "          quickchartButtonEl.classList.add('colab-df-spinner');\n",
              "          try {\n",
              "            const charts = await google.colab.kernel.invokeFunction(\n",
              "                'suggestCharts', [key], {});\n",
              "          } catch (error) {\n",
              "            console.error('Error during call to suggestCharts:', error);\n",
              "          }\n",
              "          quickchartButtonEl.classList.remove('colab-df-spinner');\n",
              "          quickchartButtonEl.classList.add('colab-df-quickchart-complete');\n",
              "        }\n",
              "        (() => {\n",
              "          let quickchartButtonEl =\n",
              "            document.querySelector('#df-1d8de83d-d381-462c-8c0a-e61568b8336e button');\n",
              "          quickchartButtonEl.style.display =\n",
              "            google.colab.kernel.accessAllowed ? 'block' : 'none';\n",
              "        })();\n",
              "      </script>\n",
              "    </div>\n",
              "\n",
              "    </div>\n",
              "  </div>\n"
            ],
            "application/vnd.google.colaboratory.intrinsic+json": {
              "type": "dataframe",
              "variable_name": "df",
              "summary": "{\n  \"name\": \"df\",\n  \"rows\": 506,\n  \"fields\": [\n    {\n      \"column\": \"crim\",\n      \"properties\": {\n        \"dtype\": \"number\",\n        \"std\": 8.601545105332487,\n        \"min\": 0.00632,\n        \"max\": 88.9762,\n        \"num_unique_values\": 504,\n        \"samples\": [\n          0.09178,\n          0.05644,\n          0.10574\n        ],\n        \"semantic_type\": \"\",\n        \"description\": \"\"\n      }\n    },\n    {\n      \"column\": \"zn\",\n      \"properties\": {\n        \"dtype\": \"number\",\n        \"std\": 23.322452994515036,\n        \"min\": 0.0,\n        \"max\": 100.0,\n        \"num_unique_values\": 26,\n        \"samples\": [\n          25.0,\n          30.0,\n          18.0\n        ],\n        \"semantic_type\": \"\",\n        \"description\": \"\"\n      }\n    },\n    {\n      \"column\": \"indus\",\n      \"properties\": {\n        \"dtype\": \"number\",\n        \"std\": 6.8603529408975845,\n        \"min\": 0.46,\n        \"max\": 27.74,\n        \"num_unique_values\": 76,\n        \"samples\": [\n          8.14,\n          1.47,\n          1.22\n        ],\n        \"semantic_type\": \"\",\n        \"description\": \"\"\n      }\n    },\n    {\n      \"column\": \"chas\",\n      \"properties\": {\n        \"dtype\": \"number\",\n        \"std\": 0,\n        \"min\": 0,\n        \"max\": 1,\n        \"num_unique_values\": 2,\n        \"samples\": [\n          1,\n          0\n        ],\n        \"semantic_type\": \"\",\n        \"description\": \"\"\n      }\n    },\n    {\n      \"column\": \"nox\",\n      \"properties\": {\n        \"dtype\": \"number\",\n        \"std\": 0.11587767566755611,\n        \"min\": 0.385,\n        \"max\": 0.871,\n        \"num_unique_values\": 81,\n        \"samples\": [\n          0.401,\n          0.538\n        ],\n        \"semantic_type\": \"\",\n        \"description\": \"\"\n      }\n    },\n    {\n      \"column\": \"rm\",\n      \"properties\": {\n        \"dtype\": \"number\",\n        \"std\": 0.7026171434153237,\n        \"min\": 3.561,\n        \"max\": 8.78,\n        \"num_unique_values\": 446,\n        \"samples\": [\n          6.849,\n          4.88\n        ],\n        \"semantic_type\": \"\",\n        \"description\": \"\"\n      }\n    },\n    {\n      \"column\": \"age\",\n      \"properties\": {\n        \"dtype\": \"number\",\n        \"std\": 28.148861406903638,\n        \"min\": 2.9,\n        \"max\": 100.0,\n        \"num_unique_values\": 356,\n        \"samples\": [\n          51.8,\n          33.8\n        ],\n        \"semantic_type\": \"\",\n        \"description\": \"\"\n      }\n    },\n    {\n      \"column\": \"dis\",\n      \"properties\": {\n        \"dtype\": \"number\",\n        \"std\": 2.1057101266276104,\n        \"min\": 1.1296,\n        \"max\": 12.1265,\n        \"num_unique_values\": 412,\n        \"samples\": [\n          2.2955,\n          4.2515\n        ],\n        \"semantic_type\": \"\",\n        \"description\": \"\"\n      }\n    },\n    {\n      \"column\": \"rad\",\n      \"properties\": {\n        \"dtype\": \"number\",\n        \"std\": 8,\n        \"min\": 1,\n        \"max\": 24,\n        \"num_unique_values\": 9,\n        \"samples\": [\n          7,\n          2\n        ],\n        \"semantic_type\": \"\",\n        \"description\": \"\"\n      }\n    },\n    {\n      \"column\": \"tax\",\n      \"properties\": {\n        \"dtype\": \"number\",\n        \"std\": 168,\n        \"min\": 187,\n        \"max\": 711,\n        \"num_unique_values\": 66,\n        \"samples\": [\n          370,\n          666\n        ],\n        \"semantic_type\": \"\",\n        \"description\": \"\"\n      }\n    },\n    {\n      \"column\": \"ptratio\",\n      \"properties\": {\n        \"dtype\": \"number\",\n        \"std\": 2.164945523714446,\n        \"min\": 12.6,\n        \"max\": 22.0,\n        \"num_unique_values\": 46,\n        \"samples\": [\n          19.6,\n          15.6\n        ],\n        \"semantic_type\": \"\",\n        \"description\": \"\"\n      }\n    },\n    {\n      \"column\": \"b\",\n      \"properties\": {\n        \"dtype\": \"number\",\n        \"std\": 91.29486438415779,\n        \"min\": 0.32,\n        \"max\": 396.9,\n        \"num_unique_values\": 357,\n        \"samples\": [\n          396.24,\n          395.11\n        ],\n        \"semantic_type\": \"\",\n        \"description\": \"\"\n      }\n    },\n    {\n      \"column\": \"lstat\",\n      \"properties\": {\n        \"dtype\": \"number\",\n        \"std\": 7.141061511348571,\n        \"min\": 1.73,\n        \"max\": 37.97,\n        \"num_unique_values\": 455,\n        \"samples\": [\n          6.15,\n          4.32\n        ],\n        \"semantic_type\": \"\",\n        \"description\": \"\"\n      }\n    },\n    {\n      \"column\": \"medv\",\n      \"properties\": {\n        \"dtype\": \"number\",\n        \"std\": 9.19710408737982,\n        \"min\": 5.0,\n        \"max\": 50.0,\n        \"num_unique_values\": 229,\n        \"samples\": [\n          14.1,\n          22.5\n        ],\n        \"semantic_type\": \"\",\n        \"description\": \"\"\n      }\n    }\n  ]\n}"
            }
          },
          "metadata": {},
          "execution_count": 7
        }
      ]
    },
    {
      "cell_type": "markdown",
      "source": [
        "### Hold Out Approach"
      ],
      "metadata": {
        "id": "QKyUZop6h-el"
      }
    },
    {
      "cell_type": "code",
      "source": [
        "X = df.iloc[:, :-1]\n",
        "y = df[\"medv\"]"
      ],
      "metadata": {
        "id": "6cEhM24hiBch"
      },
      "execution_count": 8,
      "outputs": []
    },
    {
      "cell_type": "code",
      "source": [
        "from sklearn.model_selection import train_test_split\n",
        "from sklearn.linear_model import LinearRegression\n",
        "from sklearn.metrics import r2_score"
      ],
      "metadata": {
        "id": "MkKvkiGKiBe_"
      },
      "execution_count": 9,
      "outputs": []
    },
    {
      "cell_type": "code",
      "source": [
        "random_states = list(range(1, 51))\n",
        "r2_scores = []\n",
        "\n",
        "for i in random_states:\n",
        "  X_train, X_test, y_train, y_test = train_test_split(X, y, test_size= 0.2, random_state= i)\n",
        "\n",
        "  lr_model = LinearRegression()\n",
        "  lr_model.fit(X_train, y_train)\n",
        "\n",
        "  y_pred = lr_model.predict(X_test)\n",
        "  r2_scores.append(r2_score(y_test, y_pred))"
      ],
      "metadata": {
        "id": "eZBTRl8GiBhk"
      },
      "execution_count": 12,
      "outputs": []
    },
    {
      "cell_type": "code",
      "source": [
        "plt.plot(random_states, r2_scores)\n",
        "\n",
        "plt.xlabel(\"Random State\")\n",
        "plt.ylabel(\"R2 Score\")\n",
        "\n",
        "plt.title(\"Random Sate vs R2\")\n",
        "plt.show()\n",
        "\n",
        "print(\"\"\"\n",
        "From the graph above it is clear that for each random_state the performance of\n",
        "the model is different, showing high variance.\n",
        "\"\"\")"
      ],
      "metadata": {
        "colab": {
          "base_uri": "https://localhost:8080/",
          "height": 541
        },
        "id": "PRSkJqSyiBro",
        "outputId": "a5a33aaf-8801-4b95-c189-e44eac27252e"
      },
      "execution_count": 21,
      "outputs": [
        {
          "output_type": "display_data",
          "data": {
            "text/plain": [
              "<Figure size 640x480 with 1 Axes>"
            ],
            "image/png": "[encoded data removed]"
          },
          "metadata": {}
        },
        {
          "output_type": "stream",
          "name": "stdout",
          "text": [
            "\n",
            "From the graph above it is clear that for each random_state the performance of\n",
            "the model is different, showing high variance.\n",
            "\n"
          ]
        }
      ]
    },
    {
      "cell_type": "markdown",
      "source": [
        "### Leave One Out Cross Validation"
      ],
      "metadata": {
        "id": "220odjkYNb_Y"
      }
    },
    {
      "cell_type": "code",
      "source": [
        "from sklearn.model_selection import LeaveOneOut, cross_val_score\n",
        "from sklearn.linear_model import LinearRegression"
      ],
      "metadata": {
        "id": "WfiY9E9QNILq"
      },
      "execution_count": 4,
      "outputs": []
    },
    {
      "cell_type": "code",
      "source": [
        "# Input features and Target feature\n",
        "X = df.iloc[:, :-1]\n",
        "y = df[\"medv\"]"
      ],
      "metadata": {
        "id": "1PrpJUYSNI2V"
      },
      "execution_count": 5,
      "outputs": []
    },
    {
      "cell_type": "code",
      "source": [
        "# Leave One Out Object\n",
        "loo = LeaveOneOut()"
      ],
      "metadata": {
        "id": "crqyz4C6NI5P"
      },
      "execution_count": 6,
      "outputs": []
    },
    {
      "cell_type": "code",
      "source": [
        "# LR Model\n",
        "lr_model = LinearRegression()"
      ],
      "metadata": {
        "id": "id3XGLwwNI8o"
      },
      "execution_count": 7,
      "outputs": []
    },
    {
      "cell_type": "code",
      "source": [
        "# Cross Val.\n",
        "scores = cross_val_score(lr_model, X, y, scoring= \"neg_mean_squared_error\", cv= loo) # \"neg_mean_squared_error\" means we want to reduce the MSE as much as possible"
      ],
      "metadata": {
        "id": "--PonW-fNI_D"
      },
      "execution_count": 8,
      "outputs": []
    },
    {
      "cell_type": "code",
      "source": [
        "# Inverting the scores\n",
        "scores = - scores"
      ],
      "metadata": {
        "id": "FrR829x3NJB7"
      },
      "execution_count": 9,
      "outputs": []
    },
    {
      "cell_type": "code",
      "source": [
        "scores"
      ],
      "metadata": {
        "colab": {
          "base_uri": "https://localhost:8080/"
        },
        "id": "TW-8DPYDNJEw",
        "outputId": "97fa0777-088a-4ac3-d7b0-7643f3a41e89"
      },
      "execution_count": 10,
      "outputs": [
        {
          "output_type": "execute_result",
          "data": {
            "text/plain": [
              "array([3.72979719e+01, 1.19996083e+01, 1.74878280e+01, 2.37110133e+01,\n",
              "       7.04199800e+01, 1.22185247e+01, 1.06607826e-02, 6.08323283e+01,\n",
              "       2.76061960e+01, 4.35492529e-04, 1.71891129e+01, 7.57242810e+00,\n",
              "       6.52257805e-01, 7.37772576e-01, 1.20890968e+00, 3.73396196e-01,\n",
              "       6.92394876e+00, 3.54752744e-01, 1.69701375e+01, 4.35547121e-02,\n",
              "       1.20164044e+00, 3.82170339e+00, 4.13536519e-01, 4.99399777e-01,\n",
              "       6.33146773e-03, 2.72147161e-01, 1.33111630e+00, 8.65299886e-03,\n",
              "       1.36231825e+00, 1.57472599e-02, 1.61151928e+00, 1.31345333e+01,\n",
              "       2.06757013e+01, 1.44397569e+00, 4.47571447e-02, 2.46360177e+01,\n",
              "       5.59248522e+00, 4.55268647e+00, 3.28660467e+00, 3.31240848e-01,\n",
              "       5.01414236e-01, 2.13097952e+00, 9.67926125e-03, 8.52754852e-03,\n",
              "       3.10007107e+00, 8.03207324e+00, 1.84421470e-01, 2.15724847e+00,\n",
              "       3.10857366e+01, 4.97324456e+00, 2.56665919e+00, 1.24320814e+01,\n",
              "       7.23742751e+00, 4.33023528e-01, 1.38938898e+01, 1.94058162e+01,\n",
              "       2.61868556e-02, 2.47283378e+00, 2.41117390e+00, 2.26666815e+00,\n",
              "       7.12690074e-01, 6.70735171e+00, 3.33202049e+00, 6.23714796e+00,\n",
              "       1.00186283e+02, 4.95784462e+01, 3.98629341e+01, 8.08527151e-01,\n",
              "       4.76265413e-04, 1.35769793e-02, 1.05610644e+00, 1.89273016e-03,\n",
              "       3.24426332e+00, 4.35204956e-01, 2.10591702e+00, 6.77973936e+00,\n",
              "       8.93921534e+00, 6.72924955e+00, 3.95389157e-03, 4.68203230e+00,\n",
              "       1.67027556e-01, 9.77016174e+00, 1.54940300e+00, 4.72129700e+00,\n",
              "       7.94795914e-01, 1.43988785e+00, 1.12186591e-01, 1.39147249e+01,\n",
              "       5.17230815e+01, 4.65764932e+00, 2.09274511e+01, 3.00759957e+01,\n",
              "       3.80683199e+01, 1.76112021e+01, 4.34841219e+01, 5.18896413e-02,\n",
              "       1.14056526e+01, 8.99315837e+00, 7.96409775e+01, 9.32347582e-01,\n",
              "       8.79658073e+00, 8.47154999e-01, 1.56179398e+00, 1.05458947e+00,\n",
              "       1.84301340e+00, 9.60618351e-01, 5.56763550e+00, 1.27234319e-01,\n",
              "       8.42278110e+00, 1.43119138e-01, 1.14150296e+00, 1.42119152e+01,\n",
              "       4.01230954e+00, 4.18567992e+00, 4.57030533e+01, 4.66318080e+00,\n",
              "       4.84127460e+00, 2.06842310e+01, 4.23215802e-03, 2.28282551e+00,\n",
              "       7.94133663e-03, 5.33604801e+00, 3.73181696e-03, 1.00286599e+00,\n",
              "       3.51652360e+00, 1.32546920e+00, 1.35592260e+00, 1.08989264e+00,\n",
              "       9.27611127e-01, 6.22952422e-02, 7.35595030e-01, 3.79653617e-02,\n",
              "       9.11057740e+00, 7.29742916e+00, 5.77148513e+00, 7.36695352e-01,\n",
              "       2.41840651e+00, 5.38560581e+00, 2.78241452e-01, 1.91694952e+00,\n",
              "       1.95824678e-01, 1.18717950e+02, 1.64849076e+00, 1.31249807e+01,\n",
              "       1.05190809e+01, 3.49233265e+00, 5.40314474e-02, 4.13557806e+01,\n",
              "       7.24343808e+01, 3.86523010e-01, 4.77423451e-01, 1.86129863e+00,\n",
              "       2.72514403e+01, 4.88715741e+00, 3.26775345e+01, 2.42421318e+01,\n",
              "       3.11394847e-01, 6.89729602e+01, 2.40386649e+01, 5.71237974e+00,\n",
              "       3.62551814e+01, 1.88331029e+02, 1.00351073e+02, 7.59080669e+01,\n",
              "       4.60196620e+00, 1.53145660e-01, 1.77642847e+02, 5.38550273e-01,\n",
              "       7.14135919e+00, 1.99202499e+01, 2.80076599e+01, 2.84722293e+01,\n",
              "       1.59718902e-02, 3.08941170e+01, 1.59342444e+01, 1.81470989e+00,\n",
              "       6.00460836e+00, 2.11722843e+01, 2.41778128e+00, 1.88926450e+01,\n",
              "       2.70094290e+01, 7.38078464e+01, 1.68376895e+01, 2.38895128e+00,\n",
              "       1.42614594e+01, 2.40732316e+01, 2.08289504e+02, 2.13640770e+00,\n",
              "       7.14383988e+00, 1.54449979e-01, 4.03849335e+01, 4.58824932e-02,\n",
              "       1.25685521e+01, 1.06127968e+00, 6.23019623e+00, 8.89608857e+01,\n",
              "       8.51668862e+00, 6.00617110e+00, 1.17088066e-02, 2.49622137e+01,\n",
              "       5.50881699e+00, 2.87543981e+01, 2.91960200e+01, 4.61521337e+01,\n",
              "       5.12955269e+01, 8.47509427e-03, 5.21510650e-01, 2.20152014e+01,\n",
              "       8.82557414e-01, 9.96934272e+00, 5.20630999e-01, 5.55587207e+00,\n",
              "       1.24445311e-01, 8.51709357e+00, 1.84347981e+02, 2.44018562e-01,\n",
              "       1.18009190e+01, 1.22442331e-01, 1.26490148e+01, 4.82145420e+01,\n",
              "       4.53630851e+01, 4.76207853e+00, 2.31144684e+01, 1.28229561e-01,\n",
              "       4.34167374e+01, 1.11444259e+02, 2.03410475e-04, 6.54535546e-01,\n",
              "       1.34898765e+02, 7.38220020e-02, 3.47160511e-02, 2.58868698e+00,\n",
              "       1.40373665e+01, 1.29964545e+02, 7.88886228e+00, 1.63453599e+00,\n",
              "       2.68274503e+01, 1.52510081e+00, 2.28155823e+01, 2.66834161e+01,\n",
              "       2.86503056e+01, 1.36358924e+01, 3.77632410e+00, 1.41293028e+01,\n",
              "       1.71567435e+00, 2.74347410e+01, 1.89162160e+01, 4.32374416e-01,\n",
              "       1.06259433e+01, 4.65598898e+00, 3.86785481e-02, 6.07092407e-02,\n",
              "       2.33375528e+01, 1.85751392e+02, 4.55265907e+00, 6.70212898e-01,\n",
              "       4.50434824e+01, 4.92960202e+01, 2.49837830e-01, 2.56253945e+01,\n",
              "       1.08523998e+00, 3.74282037e+01, 6.61849817e+01, 1.26503523e+01,\n",
              "       4.71473248e-01, 3.23663303e+01, 2.95647628e-01, 9.01555225e+01,\n",
              "       1.83754238e+01, 2.71993566e+01, 1.47986072e+00, 4.16432443e+00,\n",
              "       1.72123191e+01, 8.35280270e-02, 1.49704590e+01, 3.31492872e+00,\n",
              "       6.26842867e+00, 3.28104114e+00, 1.61504270e+00, 4.56649462e-02,\n",
              "       4.54050434e+01, 1.17602153e+00, 3.47545840e+01, 3.23102832e+01,\n",
              "       3.85649622e-01, 2.95648798e+01, 3.22171217e-06, 1.51769690e+01,\n",
              "       2.48907876e+01, 4.59385309e+00, 2.65527478e+01, 9.14411477e+00,\n",
              "       1.68929868e+01, 3.92826934e+00, 7.86297102e+00, 2.15863841e-02,\n",
              "       7.31845169e-02, 6.19975407e-01, 4.57161739e+01, 8.84860490e+00,\n",
              "       3.74061691e+01, 4.90879273e+01, 6.33118434e+00, 9.31305942e-02,\n",
              "       8.70789441e+00, 5.86512735e+00, 4.92575516e+00, 2.13451915e+01,\n",
              "       3.49044391e+01, 1.09724640e+01, 6.29575307e+00, 2.33948307e+01,\n",
              "       1.53267427e+01, 1.58254057e+01, 2.87031714e+00, 1.91225639e+01,\n",
              "       3.45063114e-02, 2.05239818e+00, 1.43069022e+00, 1.06937712e-01,\n",
              "       1.19837605e+00, 3.17683701e+00, 6.19879545e+00, 9.22738099e-01,\n",
              "       1.41603295e-02, 4.80410232e-03, 4.76517559e-01, 8.33683385e+00,\n",
              "       3.78108829e+00, 2.95446912e+00, 3.44163149e+00, 8.52880419e+00,\n",
              "       1.58704465e+01, 3.69818560e-03, 7.65403694e-01, 2.41533579e-01,\n",
              "       4.51295193e-01, 6.36556722e-01, 2.54273062e+00, 5.21979388e+00,\n",
              "       7.66807993e+00, 5.80646977e+00, 3.40868376e+01, 1.48944839e+01,\n",
              "       7.24390426e+00, 9.68732655e-01, 6.21378927e+00, 4.99569154e+00,\n",
              "       9.68952435e+00, 2.10983445e+01, 6.32452573e+00, 1.38528290e+01,\n",
              "       3.21831154e+00, 2.58215726e+01, 1.68538358e+01, 1.80108267e+01,\n",
              "       3.68301598e+00, 1.14144604e+00, 2.74418592e-01, 1.20887385e+01,\n",
              "       5.77277531e+00, 9.75228358e-01, 7.09182880e+00, 1.29149310e+01,\n",
              "       2.85283734e+02, 2.14991110e+02, 4.27516466e+01, 1.77993768e+02,\n",
              "       7.87394677e+02, 3.35165668e+02, 2.64080081e+02, 6.54393639e+02,\n",
              "       6.33948965e+02, 6.33920222e+01, 1.86951633e+02, 1.11627843e+02,\n",
              "       1.53278613e+01, 5.00286144e+01, 7.83456278e+00, 4.54074784e+01,\n",
              "       3.27190023e+01, 5.93660627e+01, 4.66605614e+00, 5.99865366e-01,\n",
              "       3.21396004e+01, 7.77477043e-01, 2.02465585e+01, 3.37825818e+00,\n",
              "       1.47046382e+01, 7.55625886e+00, 4.58832206e+00, 3.57928740e+01,\n",
              "       3.79010646e-02, 4.22828265e+01, 2.81819559e+01, 5.32818884e+01,\n",
              "       4.76129636e+01, 6.30466832e+01, 2.66836661e+00, 2.23280202e+01,\n",
              "       4.15271212e+01, 1.15799963e+02, 3.89670699e+01, 2.28914837e+01,\n",
              "       1.39665335e+00, 1.44905158e+01, 1.58390416e+01, 6.52503227e+01,\n",
              "       1.27588287e+01, 6.10843325e+01, 6.49569980e-02, 6.17014490e-02,\n",
              "       2.92540605e+02, 2.15683092e+01, 1.48380511e+02, 6.14617653e+00,\n",
              "       3.74288794e+01, 1.28971245e+01, 1.07238631e+01, 4.15539287e+01,\n",
              "       8.59945628e+00, 1.57554383e+01, 5.34542583e+00, 5.49460320e-02,\n",
              "       9.39636101e+00, 2.81528502e+00, 4.10145773e+01, 1.14007595e+01,\n",
              "       1.11368252e+01, 1.32928346e+01, 1.41873330e+01, 2.25356497e+01,\n",
              "       3.12691199e+01, 7.83217966e+00, 1.89861962e+01, 1.56693948e-03,\n",
              "       2.58151965e+01, 1.54075139e-02, 1.36367226e+01, 7.30268710e-02,\n",
              "       5.06274047e+00, 3.94932251e-02, 1.19782965e-01, 7.30079571e+00,\n",
              "       5.22904200e-01, 3.23155428e-02, 7.95328810e+00, 3.14777427e+01,\n",
              "       1.20064705e+01, 1.82908719e+01, 1.05763075e+01, 1.83119917e+01,\n",
              "       6.34396660e+00, 2.31843764e+01, 1.55789037e-01, 3.15951600e+00,\n",
              "       1.75398458e-04, 4.20294074e-01, 5.35596178e+00, 2.28212551e+00,\n",
              "       7.23533137e+00, 6.31714029e+00, 7.75886371e-02, 5.17140962e+00,\n",
              "       1.20467897e+00, 4.23009940e+00, 2.30805411e+01, 4.80334066e+00,\n",
              "       4.61073483e+00, 2.37217425e+00, 7.39262581e-02, 1.20045892e+01,\n",
              "       5.73795938e-01, 1.85105817e+01, 6.97065728e+00, 8.23908088e+00,\n",
              "       1.52296222e+01, 2.16058211e-01, 2.17655358e+01, 2.20269614e-01,\n",
              "       2.29686896e-01, 1.21482099e+01, 1.34717369e+01, 5.44009174e-01,\n",
              "       1.37613113e+00, 1.09158712e+00, 3.19520391e-01, 5.47953117e-01,\n",
              "       1.30481386e+01, 1.75327795e+00, 2.33540468e+01, 2.96720368e-02,\n",
              "       2.04045788e+01, 1.41901580e+00, 1.57280877e+01, 4.11132371e+01,\n",
              "       3.32780322e+01, 6.65070419e-01, 9.81706658e-03, 9.32985801e-01,\n",
              "       1.36926967e+01, 1.33604541e+00, 3.27781656e+00, 1.46379888e+01,\n",
              "       1.78577924e+01, 1.13697230e+02])"
            ]
          },
          "metadata": {},
          "execution_count": 10
        }
      ]
    },
    {
      "cell_type": "code",
      "source": [
        "print(\"Mean MSE across all folds: \", scores.mean())"
      ],
      "metadata": {
        "colab": {
          "base_uri": "https://localhost:8080/"
        },
        "id": "geB8vKjmNJHX",
        "outputId": "33fb4e43-222f-4a91-a71d-d50e62dee96f"
      },
      "execution_count": 63,
      "outputs": [
        {
          "output_type": "stream",
          "name": "stdout",
          "text": [
            "Mean MSE across all folds:  0.9600000000000002\n"
          ]
        }
      ]
    },
    {
      "cell_type": "markdown",
      "source": [
        "### K - Fold Cross Validation"
      ],
      "metadata": {
        "id": "lXL-mC7Zf8Pm"
      }
    },
    {
      "cell_type": "code",
      "source": [
        "from sklearn.linear_model import LinearRegression\n",
        "from sklearn.model_selection import KFold\n",
        "from sklearn.model_selection import cross_val_score"
      ],
      "metadata": {
        "id": "XlqVpf40NJMw"
      },
      "execution_count": 15,
      "outputs": []
    },
    {
      "cell_type": "code",
      "source": [
        "X = df.iloc[:, :-1]\n",
        "y = df[\"medv\"]"
      ],
      "metadata": {
        "id": "GwBxHVa-NJKB"
      },
      "execution_count": 13,
      "outputs": []
    },
    {
      "cell_type": "code",
      "source": [
        "lr = LinearRegression()\n",
        "k_fold = KFold(n_splits= 10, shuffle= True, random_state= 42)"
      ],
      "metadata": {
        "id": "oY3K0SOJNJPa"
      },
      "execution_count": 18,
      "outputs": []
    },
    {
      "cell_type": "code",
      "source": [
        "scores = cross_val_score(lr, X, y, cv= k_fold, scoring= \"r2\")"
      ],
      "metadata": {
        "id": "MZoNhjNaNJSQ"
      },
      "execution_count": 23,
      "outputs": []
    },
    {
      "cell_type": "code",
      "source": [
        "print(\"Mean R2 score across all fold :\", scores.mean() )"
      ],
      "metadata": {
        "id": "TiBRwkqwNJUp",
        "colab": {
          "base_uri": "https://localhost:8080/"
        },
        "outputId": "299418d2-c88a-48bb-939d-3bdc8c63dae9"
      },
      "execution_count": 62,
      "outputs": [
        {
          "output_type": "stream",
          "name": "stdout",
          "text": [
            "Mean R2 score across all fold : 0.9600000000000002\n"
          ]
        }
      ]
    },
    {
      "cell_type": "markdown",
      "source": [
        "### Stratified K - Fold CV"
      ],
      "metadata": {
        "id": "0jwffNXeHfQ4"
      }
    },
    {
      "cell_type": "code",
      "source": [
        "from sklearn.datasets import load_iris\n",
        "from sklearn.linear_model import LogisticRegression\n",
        "from sklearn.preprocessing import StandardScaler\n",
        "from sklearn.model_selection import StratifiedKFold\n",
        "from sklearn.model_selection import cross_val_score"
      ],
      "metadata": {
        "id": "B6b9-NGsNJZ0"
      },
      "execution_count": 38,
      "outputs": []
    },
    {
      "cell_type": "code",
      "source": [
        "data = load_iris()"
      ],
      "metadata": {
        "id": "dxeTOGsCNJcp"
      },
      "execution_count": 53,
      "outputs": []
    },
    {
      "cell_type": "code",
      "source": [
        "X, y = data.data, data.target"
      ],
      "metadata": {
        "id": "lOYw-4OuNJfN"
      },
      "execution_count": 54,
      "outputs": []
    },
    {
      "cell_type": "code",
      "source": [
        "scaler = StandardScaler()"
      ],
      "metadata": {
        "id": "6gCN8xlKJTGq"
      },
      "execution_count": 55,
      "outputs": []
    },
    {
      "cell_type": "code",
      "source": [
        "X = scaler.fit_transform(X)"
      ],
      "metadata": {
        "id": "hVtC0o5hJnfl"
      },
      "execution_count": 56,
      "outputs": []
    },
    {
      "cell_type": "code",
      "source": [
        "skf = StratifiedKFold(n_splits= 5, shuffle= True)"
      ],
      "metadata": {
        "id": "pIbk6eI7NJh0"
      },
      "execution_count": 57,
      "outputs": []
    },
    {
      "cell_type": "code",
      "source": [
        "lgr_model = LogisticRegression(max_iter= 100, random_state= 42)"
      ],
      "metadata": {
        "id": "BEzmRiFENJkf"
      },
      "execution_count": 58,
      "outputs": []
    },
    {
      "cell_type": "code",
      "source": [
        "scores = cross_val_score(lgr_model, X, y, cv= skf, scoring= \"accuracy\")"
      ],
      "metadata": {
        "id": "e70W5WfINJnG"
      },
      "execution_count": 59,
      "outputs": []
    },
    {
      "cell_type": "code",
      "source": [
        "print(\"Mean accuracy across all folds: \", scores.mean())"
      ],
      "metadata": {
        "id": "bk8h4ZqTNJps",
        "colab": {
          "base_uri": "https://localhost:8080/"
        },
        "outputId": "d9dd9a95-9604-4a0a-fd00-51f57233fa38"
      },
      "execution_count": 61,
      "outputs": [
        {
          "output_type": "stream",
          "name": "stdout",
          "text": [
            "Mean accuracy across all folds:  0.9600000000000002\n"
          ]
        }
      ]
    },
    {
      "cell_type": "code",
      "source": [],
      "metadata": {
        "id": "ZU3BJg5gNKIQ"
      },
      "execution_count": null,
      "outputs": []
    }
  ]
}